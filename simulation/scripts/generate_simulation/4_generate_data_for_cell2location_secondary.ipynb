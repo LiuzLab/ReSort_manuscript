{
 "cells": [
  {
   "cell_type": "code",
   "execution_count": 1,
   "metadata": {},
   "outputs": [],
   "source": [
    "import pandas as pd\n",
    "import scanpy as sc\n",
    "import anndata as ad\n",
    "from scipy.sparse import csr_matrix"
   ]
  },
  {
   "cell_type": "code",
   "execution_count": 1,
   "metadata": {},
   "outputs": [],
   "source": [
    "import warnings\n",
    "warnings.filterwarnings('ignore')"
   ]
  },
  {
   "cell_type": "markdown",
   "metadata": {},
   "source": [
    "# Pure"
   ]
  },
  {
   "cell_type": "markdown",
   "metadata": {},
   "source": [
    "## Bulk"
   ]
  },
  {
   "cell_type": "code",
   "execution_count": 4,
   "metadata": {},
   "outputs": [
    {
     "data": {
      "text/plain": [
       "AnnData object with n_obs × n_vars = 2500 × 19738\n",
       "    obs: 'spot_id', 'array_col', 'array_row'"
      ]
     },
     "execution_count": 4,
     "metadata": {},
     "output_type": "execute_result"
    }
   ],
   "source": [
    "pure_bulk = sc.read_h5ad(\"../../../simulation_finer_resolution/data/pure/simulated_mixture.h5\")\n",
    "pure_meta = pure_bulk.obs[['spot_id']]\n",
    "xs, ys = [], []\n",
    "for i in pure_meta.spot_id.tolist():\n",
    "    xs.append(int(i.split(\"x\")[0]))\n",
    "    ys.append(int(i.split(\"x\")[1]))\n",
    "pure_meta['array_col'] = xs\n",
    "pure_meta['array_row'] = ys\n",
    "pure_bulk.obs = pure_meta\n",
    "pure_bulk.X = csr_matrix(pure_bulk.X)\n",
    "pure_bulk.write(\"cell2loc_inputs_level2/pure/simulated_pure_bulk.h5\")\n",
    "pure_bulk"
   ]
  },
  {
   "cell_type": "markdown",
   "metadata": {},
   "source": [
    "### Internal reference"
   ]
  },
  {
   "cell_type": "code",
   "execution_count": 9,
   "metadata": {},
   "outputs": [
    {
     "name": "stdout",
     "output_type": "stream",
     "text": [
      "{'mDCs', 'Cancer', 'Macrophages', 'Mast', 'Monocytes', 'Ductal'}\n"
     ]
    }
   ],
   "source": [
    "int_ref = sc.read_h5ad(\"../../single_cell_ref/PDACA_single_cell_filtered_meta_cell_types.h5\")\n",
    "int_meta = int_ref.obs[['cell type']]\n",
    "print(set(int_meta['cell type']))\n",
    "int_ref.obs = int_meta.copy()\n",
    "int_ref.X = csr_matrix(int_ref.X)\n",
    "int_ref.write('cell2loc_inputs_level2/pure/internal_reference.h5')\n",
    "int_ref.write('cell2loc_inputs_level2/infiltrated/internal_reference.h5')"
   ]
  },
  {
   "cell_type": "markdown",
   "metadata": {},
   "source": [
    "### External reference"
   ]
  },
  {
   "cell_type": "code",
   "execution_count": 10,
   "metadata": {},
   "outputs": [
    {
     "name": "stdout",
     "output_type": "stream",
     "text": [
      "{'mDCs', 'Cancer', 'Macrophages', 'Mast', 'Monocytes', 'Ductal'}\n"
     ]
    }
   ],
   "source": [
    "ext_ref = sc.read_h5ad(\"../../single_cell_ref/PDACB_single_cell_filtered_meta_cell_types.h5\")\n",
    "ext_meta = ext_ref.obs[['cell type']]\n",
    "ext_ref.X = csr_matrix(ext_ref.X)\n",
    "ext_ref.obs = ext_meta.copy()\n",
    "ext_ref.write('cell2loc_inputs_level2/pure/external_reference.h5')\n",
    "ext_ref.write('cell2loc_inputs_level2/infiltrated/external_reference.h5')\n",
    "print(set(ext_meta['cell type']))"
   ]
  },
  {
   "cell_type": "markdown",
   "metadata": {},
   "source": [
    "### immune only reference"
   ]
  },
  {
   "cell_type": "code",
   "execution_count": 11,
   "metadata": {},
   "outputs": [],
   "source": [
    "int_immune = int_ref[int_ref.obs['cell type'] != 'Cancer', :]\n",
    "int_immune.write('cell2loc_inputs_level2/pure/internal_reference_immune_only.h5')\n",
    "int_immune.write('cell2loc_inputs_level2/infiltrated/internal_reference_immune_only.h5')\n",
    "\n",
    "ext_immune = ext_ref[ext_ref.obs['cell type'] != 'Cancer', :]\n",
    "ext_immune.write('cell2loc_inputs_level2/pure/external_reference_immune_only.h5')\n",
    "ext_immune.write('cell2loc_inputs_level2/infiltrated/external_reference_immune_only.h5')"
   ]
  },
  {
   "cell_type": "markdown",
   "metadata": {},
   "source": [
    "# infiltrated"
   ]
  },
  {
   "cell_type": "markdown",
   "metadata": {},
   "source": [
    "## bulk"
   ]
  },
  {
   "cell_type": "code",
   "execution_count": 12,
   "metadata": {},
   "outputs": [
    {
     "data": {
      "text/plain": [
       "AnnData object with n_obs × n_vars = 2500 × 19738\n",
       "    obs: 'spot_id', 'array_col', 'array_row'"
      ]
     },
     "execution_count": 12,
     "metadata": {},
     "output_type": "execute_result"
    }
   ],
   "source": [
    "inf_bulk = sc.read_h5ad(\"../../../simulation_finer_resolution/data/cancer_inf_0.1/simulated_mixture.h5\")\n",
    "inf_meta = inf_bulk.obs[['spot_id']]\n",
    "xs, ys = [], []\n",
    "for i in inf_meta.spot_id.tolist():\n",
    "    xs.append(int(i.split(\"x\")[0]))\n",
    "    ys.append(int(i.split(\"x\")[1]))\n",
    "    \n",
    "inf_meta['array_col'] = xs\n",
    "inf_meta['array_row'] = ys\n",
    "inf_bulk.obs = inf_meta\n",
    "inf_bulk.X = csr_matrix(inf_bulk.X)\n",
    "\n",
    "inf_bulk.write(\"./cell2loc_inputs_level2/infiltrated/simulated_infiltrated_bulk.h5\")\n",
    "inf_bulk"
   ]
  }
 ],
 "metadata": {
  "kernelspec": {
   "display_name": "Python 3",
   "language": "python",
   "name": "python3"
  },
  "language_info": {
   "codemirror_mode": {
    "name": "ipython",
    "version": 3
   },
   "file_extension": ".py",
   "mimetype": "text/x-python",
   "name": "python",
   "nbconvert_exporter": "python",
   "pygments_lexer": "ipython3",
   "version": "3.9.11"
  }
 },
 "nbformat": 4,
 "nbformat_minor": 4
}
