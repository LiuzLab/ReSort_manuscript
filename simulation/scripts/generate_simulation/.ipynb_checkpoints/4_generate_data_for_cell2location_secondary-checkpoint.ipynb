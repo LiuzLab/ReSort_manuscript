{
 "cells": [
  {
   "cell_type": "code",
   "execution_count": 1,
   "metadata": {},
   "outputs": [],
   "source": [
    "import pandas as pd\n",
    "import scanpy as sc\n",
    "import anndata as ad\n",
    "from scipy.sparse import csr_matrix"
   ]
  },
  {
   "cell_type": "markdown",
   "metadata": {},
   "source": [
    "# Pure"
   ]
  },
  {
   "cell_type": "markdown",
   "metadata": {},
   "source": [
    "## Bulk"
   ]
  },
  {
   "cell_type": "code",
   "execution_count": 2,
   "metadata": {},
   "outputs": [],
   "source": [
    "pure_count = pd.read_csv(\"../../s1/pure/simulated_mixture_raw_counts.csv\", index_col=0)\n",
    "pure_meta = pd.read_csv(\"../../s1/pure/simulated_mixture_coordinates.csv\", index_col=0)\n",
    "pure_bulk = ad.AnnData(X=csr_matrix(pure_count.values), obs = pd.DataFrame({'array_col': pure_meta.x,\n",
    "                                                                'array_row': pure_meta.y}, index = pure_meta.index),\n",
    "                       var = pd.DataFrame({'gene': pure_count.columns.tolist()},\n",
    "                                          index = pure_count.columns))\n",
    "pure_bulk.write(\"cell2loc_inputs/pure/simulated_pure_bulk.h5\")"
   ]
  },
  {
   "cell_type": "markdown",
   "metadata": {},
   "source": [
    "### MIST reference"
   ]
  },
  {
   "cell_type": "code",
   "execution_count": 3,
   "metadata": {},
   "outputs": [
    {
     "data": {
      "text/plain": [
       "AnnData object with n_obs × n_vars = 1051 × 19738\n",
       "    obs: 'bio_celltype'\n",
       "    var: 'gene'"
      ]
     },
     "execution_count": 3,
     "metadata": {},
     "output_type": "execute_result"
    }
   ],
   "source": [
    "MIST_count = pd.read_csv(\"../../s1/pure/MIST_reference_count.csv\", index_col=0)\n",
    "MIST_meta = pd.read_csv(\"../../s1/pure/MIST_reference_meta.csv\", index_col=0)\n",
    "\n",
    "MIST_ref = ad.AnnData(X=csr_matrix(MIST_count.values), obs = MIST_meta,\n",
    "                       var = pd.DataFrame({'gene': MIST_count.columns.tolist()},\n",
    "                                          index = MIST_count.columns))\n",
    "MIST_ref"
   ]
  },
  {
   "cell_type": "code",
   "execution_count": 4,
   "metadata": {},
   "outputs": [
    {
     "name": "stderr",
     "output_type": "stream",
     "text": [
      "... storing 'bio_celltype' as categorical\n"
     ]
    }
   ],
   "source": [
    "MIST_ref.write(\"cell2loc_inputs/pure/MIST_ref.h5\")"
   ]
  },
  {
   "cell_type": "markdown",
   "metadata": {},
   "source": [
    "### Internal reference"
   ]
  },
  {
   "cell_type": "code",
   "execution_count": 5,
   "metadata": {},
   "outputs": [
    {
     "data": {
      "text/plain": [
       "AnnData object with n_obs × n_vars = 1794 × 19738\n",
       "    obs: 'bio_celltype'\n",
       "    var: 'gene'"
      ]
     },
     "execution_count": 5,
     "metadata": {},
     "output_type": "execute_result"
    }
   ],
   "source": [
    "int_count = pd.read_csv(\"../../single_cell_ref/single_cell_ref_count_internal.csv\", index_col=0)\n",
    "int_meta = pd.read_csv(\"../../single_cell_ref/single_cell_ref_meta_internal.csv\", index_col=0)\n",
    "\n",
    "int_ref = ad.AnnData(X=csr_matrix(int_count.values), obs = int_meta,\n",
    "                       var = pd.DataFrame({'gene': int_count.columns.tolist()},\n",
    "                                          index = int_count.columns))\n",
    "int_ref"
   ]
  },
  {
   "cell_type": "code",
   "execution_count": 6,
   "metadata": {},
   "outputs": [
    {
     "name": "stderr",
     "output_type": "stream",
     "text": [
      "... storing 'bio_celltype' as categorical\n"
     ]
    }
   ],
   "source": [
    "int_ref.write(\"cell2loc_inputs/pure/internal_ref.h5\")\n",
    "int_ref.write(\"cell2loc_inputs/infiltrated/internal_ref.h5\")"
   ]
  },
  {
   "cell_type": "markdown",
   "metadata": {},
   "source": [
    "### External reference"
   ]
  },
  {
   "cell_type": "code",
   "execution_count": 7,
   "metadata": {},
   "outputs": [
    {
     "data": {
      "text/plain": [
       "AnnData object with n_obs × n_vars = 1515 × 19738\n",
       "    obs: 'bio_celltype'\n",
       "    var: 'gene'"
      ]
     },
     "execution_count": 7,
     "metadata": {},
     "output_type": "execute_result"
    }
   ],
   "source": [
    "ext_count = pd.read_csv(\"../../single_cell_ref/single_cell_ref_count_external.csv\", index_col=0)\n",
    "ext_meta = pd.read_csv(\"../../single_cell_ref/single_cell_ref_meta_external.csv\", index_col=0)\n",
    "\n",
    "ext_ref = ad.AnnData(X=csr_matrix(ext_count.values), obs = ext_meta,\n",
    "                       var = pd.DataFrame({'gene': ext_count.columns.tolist()},\n",
    "                                          index = ext_count.columns))\n",
    "ext_ref"
   ]
  },
  {
   "cell_type": "code",
   "execution_count": 8,
   "metadata": {},
   "outputs": [
    {
     "name": "stderr",
     "output_type": "stream",
     "text": [
      "... storing 'bio_celltype' as categorical\n"
     ]
    }
   ],
   "source": [
    "ext_ref.write(\"cell2loc_inputs/pure/external_ref.h5\")\n",
    "ext_ref.write(\"cell2loc_inputs/infiltrated/external_ref.h5\")"
   ]
  },
  {
   "cell_type": "markdown",
   "metadata": {},
   "source": [
    "# infiltrated"
   ]
  },
  {
   "cell_type": "markdown",
   "metadata": {},
   "source": [
    "## bulk"
   ]
  },
  {
   "cell_type": "code",
   "execution_count": 9,
   "metadata": {},
   "outputs": [],
   "source": [
    "inf_count = pd.read_csv(\"../../s1/cancer_inf_0.1/simulated_mixture_raw_counts.csv\", index_col=0)\n",
    "inf_meta = pd.read_csv(\"../../s1/cancer_inf_0.1/simulated_mixture_coordinates.csv\", index_col=0)\n",
    "\n",
    "inf_bulk = ad.AnnData(X=csr_matrix(inf_count.values), obs = pd.DataFrame({'array_col': inf_meta.x,\n",
    "                                                                'array_row': inf_meta.y}, \n",
    "                                                             index = inf_meta.index),\n",
    "                       var = pd.DataFrame({'gene': inf_count.columns.tolist()},\n",
    "                                          index = inf_count.columns))\n",
    "inf_bulk.write(\"cell2loc_inputs/infiltrated/simulated_infiltrated_bulk.h5\")"
   ]
  },
  {
   "cell_type": "markdown",
   "metadata": {},
   "source": [
    "## MIST reference"
   ]
  },
  {
   "cell_type": "code",
   "execution_count": 11,
   "metadata": {},
   "outputs": [
    {
     "data": {
      "text/plain": [
       "AnnData object with n_obs × n_vars = 891 × 19738\n",
       "    obs: 'bio_celltype'\n",
       "    var: 'gene'"
      ]
     },
     "execution_count": 11,
     "metadata": {},
     "output_type": "execute_result"
    }
   ],
   "source": [
    "MIST_count = pd.read_csv(\"../../s1/cancer_inf_0.1/MIST_reference_count.csv\", index_col=0)\n",
    "MIST_meta = pd.read_csv(\"../../s1/cancer_inf_0.1/MIST_reference_meta.csv\", index_col=0)\n",
    "\n",
    "MIST_ref = ad.AnnData(X=csr_matrix(MIST_count.values), obs = MIST_meta,\n",
    "                       var = pd.DataFrame({'gene': MIST_count.columns.tolist()},\n",
    "                                          index = MIST_count.columns))\n",
    "MIST_ref"
   ]
  },
  {
   "cell_type": "code",
   "execution_count": 12,
   "metadata": {},
   "outputs": [
    {
     "name": "stderr",
     "output_type": "stream",
     "text": [
      "... storing 'bio_celltype' as categorical\n"
     ]
    }
   ],
   "source": [
    "MIST_ref.write(\"cell2loc_inputs/infiltrated/MIST_ref.h5\")"
   ]
  },
  {
   "cell_type": "code",
   "execution_count": null,
   "metadata": {},
   "outputs": [],
   "source": []
  }
 ],
 "metadata": {
  "kernelspec": {
   "display_name": "Python 3",
   "language": "python",
   "name": "python3"
  },
  "language_info": {
   "codemirror_mode": {
    "name": "ipython",
    "version": 3
   },
   "file_extension": ".py",
   "mimetype": "text/x-python",
   "name": "python",
   "nbconvert_exporter": "python",
   "pygments_lexer": "ipython3",
   "version": "3.6.9"
  }
 },
 "nbformat": 4,
 "nbformat_minor": 4
}
